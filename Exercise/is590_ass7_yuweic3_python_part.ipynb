{
 "cells": [
  {
   "cell_type": "code",
   "execution_count": 58,
   "metadata": {},
   "outputs": [],
   "source": [
    "import numpy as np\n",
    "import pandas as pd\n",
    "import matplotlib.pyplot as plt\n",
    "\n",
    "from sklearn.preprocessing import LabelEncoder, OneHotEncoder\n",
    "from sklearn import tree\n",
    "from sklearn import metrics\n",
    "from sklearn.model_selection import train_test_split\n",
    "\n",
    "\n",
    "from sklearn.naive_bayes import GaussianNB\n",
    "from sklearn.neighbors import KNeighborsClassifier\n",
    "from sklearn.svm import SVC\n",
    "\n",
    "%matplotlib inline"
   ]
  },
  {
   "cell_type": "code",
   "execution_count": 59,
   "metadata": {},
   "outputs": [],
   "source": [
    "car_data = pd.read_csv('https://archive.ics.uci.edu/ml/machine-learning-databases/car/car.data', names = [\"buying\", \"maint\", \"doors\", \"persons\", \"lug_boot\", \"safety\", \"class\"])\n"
   ]
  },
  {
   "cell_type": "code",
   "execution_count": 60,
   "metadata": {},
   "outputs": [
    {
     "name": "stdout",
     "output_type": "stream",
     "text": [
      "<class 'pandas.core.frame.DataFrame'>\n",
      "RangeIndex: 1728 entries, 0 to 1727\n",
      "Data columns (total 7 columns):\n",
      "buying      1728 non-null object\n",
      "maint       1728 non-null object\n",
      "doors       1728 non-null object\n",
      "persons     1728 non-null object\n",
      "lug_boot    1728 non-null object\n",
      "safety      1728 non-null object\n",
      "class       1728 non-null object\n",
      "dtypes: object(7)\n",
      "memory usage: 94.6+ KB\n"
     ]
    }
   ],
   "source": [
    "car_data.info() # number of items"
   ]
  },
  {
   "cell_type": "code",
   "execution_count": null,
   "metadata": {
    "collapsed": true
   },
   "outputs": [],
   "source": [
    "# Data Set Characteristics:    Multivariate\n",
    "# Number of Instances:   1728\n",
    "# Attribute Characteristics: Categorical\n",
    "# Number of Attributes: 6\n",
    "# Associated Tasks:  Classification\n",
    "# Missing Values:  No"
   ]
  },
  {
   "cell_type": "code",
   "execution_count": 112,
   "metadata": {},
   "outputs": [
    {
     "data": {
      "text/plain": [
       "class\n",
       "acc       384\n",
       "good       69\n",
       "unacc    1210\n",
       "vgood      65\n",
       "dtype: int64"
      ]
     },
     "execution_count": 112,
     "metadata": {},
     "output_type": "execute_result"
    }
   ],
   "source": [
    "class_data = car_data.groupby(['class'])\n",
    "class_data.size()"
   ]
  },
  {
   "cell_type": "code",
   "execution_count": 113,
   "metadata": {},
   "outputs": [
    {
     "data": {
      "image/png": "[encoded data removed]",
      "text/plain": [
       "<matplotlib.figure.Figure at 0x11092c320>"
      ]
     },
     "metadata": {},
     "output_type": "display_data"
    }
   ],
   "source": [
    "names = []\n",
    "count = []\n",
    "for name, group in class_data:\n",
    "    names.append(name)\n",
    "    count.append(len(group))\n",
    "\n",
    "y_pos = np.arange(len(names))\n",
    "plt.bar(y_pos, count, align = 'center')\n",
    "plt.xticks(y_pos,names)\n",
    "plt.ylabel('Frequency')\n",
    "plt.title('Frequency of Class')\n",
    "\n",
    "plt.show()"
   ]
  },
  {
   "cell_type": "code",
   "execution_count": null,
   "metadata": {
    "collapsed": true
   },
   "outputs": [],
   "source": [
    "# The above bar chart shows the frequency of the class output\n",
    "#  It shows that out of the total 1728 cars in the dataset, 384(22.28 %) were acceptable, \n",
    "#  69 (4.05 %) were good, 1210 (69.85 %) were unacceptable, \n",
    "#  and 65 cars (3.82%) were very good. "
   ]
  },
  {
   "cell_type": "code",
   "execution_count": null,
   "metadata": {
    "collapsed": true
   },
   "outputs": [],
   "source": []
  },
  {
   "cell_type": "code",
   "execution_count": 114,
   "metadata": {
    "collapsed": true
   },
   "outputs": [],
   "source": [
    "# Data Cleaning :conversion of nominal attributes to numeric attributes"
   ]
  },
  {
   "cell_type": "code",
   "execution_count": 126,
   "metadata": {
    "collapsed": true
   },
   "outputs": [],
   "source": [
    "# Step 1: Cleaning \"Buying: buying\" Attribute\n",
    "# 'vhigh' : 4\n",
    "# 'high': 3\n",
    "# 'med': 2\n",
    "# 'low': 1\n",
    "\n",
    "# Step 2: Cleaning \"Maintenance: maint\" Attribute\n",
    "# 'vhigh' : 4\n",
    "# 'high': 3\n",
    "# 'med': 2\n",
    "# 'low': 1\n",
    "\n",
    "# Step 3: Cleaning 'Luggage Boot: lug_boot' Attribute\n",
    "# 'Big': 3\n",
    "# 'Small' : 1\n",
    "\n",
    "# Step 4: Cleaning 'Doors: doors' Attribute\n",
    "# '5more': 6\n",
    "# 'more': 5\n",
    "\n",
    "# Step 5: Cleaning 'Class: class' Attribute\n",
    "# 'vgood': 4\n",
    "# 'good': 3\n",
    "# 'acc': 2\n",
    "# 'unacc': 1"
   ]
  },
  {
   "cell_type": "code",
   "execution_count": 115,
   "metadata": {
    "collapsed": true
   },
   "outputs": [],
   "source": [
    "df = car_data.replace('vhigh', 4)\n",
    "df = df.replace('high',3)\n",
    "df = df.replace('med', 2)\n",
    "df = df.replace('low', 1)\n",
    "\n",
    "df = df.replace('big', 3)\n",
    "df = df.replace('small', 1)\n",
    "\n",
    "df = df.replace('5more', 6)\n",
    "df = df.replace('more', 5)\n",
    "\n",
    "df = df.replace('vgood', 4)\n",
    "df = df.replace('good',3)\n",
    "df = df.replace('acc', 2)\n",
    "df = df.replace('unacc', 1)"
   ]
  },
  {
   "cell_type": "code",
   "execution_count": null,
   "metadata": {
    "collapsed": true
   },
   "outputs": [],
   "source": []
  },
  {
   "cell_type": "code",
   "execution_count": null,
   "metadata": {
    "collapsed": true
   },
   "outputs": [],
   "source": [
    "# [TBC] Data Transformation "
   ]
  },
  {
   "cell_type": "code",
   "execution_count": null,
   "metadata": {
    "collapsed": true
   },
   "outputs": [],
   "source": []
  },
  {
   "cell_type": "code",
   "execution_count": 124,
   "metadata": {
    "collapsed": true
   },
   "outputs": [],
   "source": [
    "# Data Split"
   ]
  },
  {
   "cell_type": "code",
   "execution_count": null,
   "metadata": {
    "collapsed": true
   },
   "outputs": [],
   "source": [
    "# Training and Testing % Split\n",
    "# 90% : 10%\n",
    "# 60% : 30%\n",
    "# 50% : 50%\n",
    "# 10 Folds"
   ]
  },
  {
   "cell_type": "code",
   "execution_count": 130,
   "metadata": {},
   "outputs": [],
   "source": [
    "car = df.values\n",
    "X,y = car[:,:6], car[:,6]\n",
    "X,y = X.astype(int), y.astype(int)"
   ]
  },
  {
   "cell_type": "code",
   "execution_count": null,
   "metadata": {
    "collapsed": true
   },
   "outputs": [],
   "source": []
  },
  {
   "cell_type": "code",
   "execution_count": null,
   "metadata": {
    "collapsed": true
   },
   "outputs": [],
   "source": []
  },
  {
   "cell_type": "code",
   "execution_count": 163,
   "metadata": {
    "collapsed": true
   },
   "outputs": [],
   "source": [
    "# Classification: 1. Naive Bayesian 2. kNN 3. Support Vector Machines"
   ]
  },
  {
   "cell_type": "code",
   "execution_count": 216,
   "metadata": {
    "collapsed": true
   },
   "outputs": [],
   "source": [
    "models = {}"
   ]
  },
  {
   "cell_type": "code",
   "execution_count": 215,
   "metadata": {},
   "outputs": [],
   "source": [
    "def addModel(models, name, acc):\n",
    "    if name not in models:\n",
    "        models[name] = [acc]\n",
    "    else:\n",
    "        models[name].append(acc)"
   ]
  },
  {
   "cell_type": "code",
   "execution_count": null,
   "metadata": {
    "collapsed": true
   },
   "outputs": [],
   "source": [
    "# 1. Naive Bayes\n",
    "# Naive Bayes uses Bayes Theorem to model the conditional relationship of \n",
    "# each attribute to the class variable."
   ]
  },
  {
   "cell_type": "code",
   "execution_count": 197,
   "metadata": {
    "collapsed": true
   },
   "outputs": [],
   "source": [
    "def GNB(X_train, y_train, X_test,y_test):\n",
    "    # fit a Naive Bayes model to the data\n",
    "    model = GaussianNB()\n",
    "    model.fit(X_train, y_train)\n",
    "    print(model)\n",
    "\n",
    "    acc = predict(model, X_test, y_test)\n",
    "\n",
    "    name = 'GaussianNB'\n",
    "    addModel(models, name, acc)"
   ]
  },
  {
   "cell_type": "code",
   "execution_count": null,
   "metadata": {
    "collapsed": true
   },
   "outputs": [],
   "source": [
    "# 2. kNN"
   ]
  },
  {
   "cell_type": "code",
   "execution_count": 198,
   "metadata": {
    "collapsed": true
   },
   "outputs": [],
   "source": [
    "def kNN(X_train, y_train, X_test,y_test):\n",
    "    # fit a Naive Bayes model to the data\n",
    "    model = KNeighborsClassifier()\n",
    "    model.fit(X_train, y_train)\n",
    "    print(model)\n",
    "\n",
    "    acc = predict(model, X_test, y_test)\n",
    "\n",
    "    name = 'kNN'\n",
    "    addModel(models, name, acc)"
   ]
  },
  {
   "cell_type": "code",
   "execution_count": null,
   "metadata": {
    "collapsed": true
   },
   "outputs": [],
   "source": [
    "# 3. Support Vector Machines (SVM)\n",
    "# Support Vector Machines (SVM) are a method that uses points in a transformed problem space \n",
    "# that best separate classes into two groups. "
   ]
  },
  {
   "cell_type": "code",
   "execution_count": 199,
   "metadata": {
    "collapsed": true
   },
   "outputs": [],
   "source": [
    "def svm(X_train, y_train, X_test,y_test):\n",
    "    # fit a SVM model to the data\n",
    "    model = SVC()\n",
    "    model.fit(X_train, y_train)\n",
    "    print(model)\n",
    "\n",
    "    acc = predict(model, X_test, y_test)\n",
    "\n",
    "    name = 'SVM'\n",
    "    addModel(models, name, acc)"
   ]
  },
  {
   "cell_type": "code",
   "execution_count": null,
   "metadata": {
    "collapsed": true
   },
   "outputs": [],
   "source": []
  },
  {
   "cell_type": "code",
   "execution_count": 187,
   "metadata": {
    "collapsed": true
   },
   "outputs": [],
   "source": [
    "def split(test_percent):\n",
    "    X_train, X_test, y_train, y_test = train_test_split(X,y,test_size=test_percent,random_state=0)\n",
    "    GNB(X_train,  y_train, X_test,y_test)\n",
    "    kNN(X_train,  y_train, X_test,y_test)\n",
    "    svm(X_train,  y_train, X_test,y_test)"
   ]
  },
  {
   "cell_type": "code",
   "execution_count": null,
   "metadata": {
    "collapsed": true
   },
   "outputs": [],
   "source": []
  },
  {
   "cell_type": "code",
   "execution_count": 219,
   "metadata": {
    "collapsed": true
   },
   "outputs": [],
   "source": [
    "percent = [0.1, 0.3, 0.5]"
   ]
  },
  {
   "cell_type": "code",
   "execution_count": 217,
   "metadata": {},
   "outputs": [
    {
     "name": "stdout",
     "output_type": "stream",
     "text": [
      "GaussianNB(priors=None)\n",
      "             precision    recall  f1-score   support\n",
      "\n",
      "          1       0.89      0.88      0.88       120\n",
      "          2       0.40      0.19      0.26        42\n",
      "          3       0.33      0.29      0.31         7\n",
      "          4       0.14      1.00      0.24         4\n",
      "\n",
      "avg / total       0.73      0.69      0.69       173\n",
      "\n",
      "Confusion Matrix:\n",
      "[[105  12   0   3]\n",
      " [ 12   8   4  18]\n",
      " [  1   0   2   4]\n",
      " [  0   0   0   4]]\n",
      "\n",
      "Accuracy: 0.751445086705\n",
      "KNeighborsClassifier(algorithm='auto', leaf_size=30, metric='minkowski',\n",
      "           metric_params=None, n_jobs=1, n_neighbors=5, p=2,\n",
      "           weights='uniform')\n",
      "             precision    recall  f1-score   support\n",
      "\n",
      "          1       0.96      0.97      0.97       120\n",
      "          2       0.89      0.81      0.85        42\n",
      "          3       0.67      0.86      0.75         7\n",
      "          4       0.75      0.75      0.75         4\n",
      "\n",
      "avg / total       0.93      0.92      0.92       173\n",
      "\n",
      "Confusion Matrix:\n",
      "[[117   3   0   0]\n",
      " [  5  34   3   0]\n",
      " [  0   0   6   1]\n",
      " [  0   1   0   3]]\n",
      "\n",
      "Accuracy: 0.963391136802\n",
      "SVC(C=1.0, cache_size=200, class_weight=None, coef0=0.0,\n",
      "  decision_function_shape=None, degree=3, gamma='auto', kernel='rbf',\n",
      "  max_iter=-1, probability=False, random_state=None, shrinking=True,\n",
      "  tol=0.001, verbose=False)\n",
      "             precision    recall  f1-score   support\n",
      "\n",
      "          1       0.99      0.95      0.97       120\n",
      "          2       0.81      0.90      0.85        42\n",
      "          3       0.50      0.43      0.46         7\n",
      "          4       0.60      0.75      0.67         4\n",
      "\n",
      "avg / total       0.92      0.91      0.91       173\n",
      "\n",
      "Confusion Matrix:\n",
      "[[114   6   0   0]\n",
      " [  1  38   3   0]\n",
      " [  0   2   3   2]\n",
      " [  0   1   0   3]]\n",
      "\n",
      "Accuracy: 0.961464354528\n",
      "GaussianNB(priors=None)\n",
      "             precision    recall  f1-score   support\n",
      "\n",
      "          1       0.93      0.92      0.93       363\n",
      "          2       0.58      0.34      0.43       115\n",
      "          3       0.38      0.20      0.26        25\n",
      "          4       0.20      1.00      0.33        16\n",
      "\n",
      "avg / total       0.80      0.76      0.77       519\n",
      "\n",
      "Confusion Matrix:\n",
      "[[334  21   0   8]\n",
      " [ 23  39   8  45]\n",
      " [  2   7   5  11]\n",
      " [  0   0   0  16]]\n",
      "\n",
      "Accuracy: 0.7591522158\n",
      "KNeighborsClassifier(algorithm='auto', leaf_size=30, metric='minkowski',\n",
      "           metric_params=None, n_jobs=1, n_neighbors=5, p=2,\n",
      "           weights='uniform')\n",
      "             precision    recall  f1-score   support\n",
      "\n",
      "          1       0.97      0.98      0.97       363\n",
      "          2       0.86      0.90      0.88       115\n",
      "          3       0.85      0.68      0.76        25\n",
      "          4       0.91      0.62      0.74        16\n",
      "\n",
      "avg / total       0.94      0.94      0.93       519\n",
      "\n",
      "Confusion Matrix:\n",
      "[[355   8   0   0]\n",
      " [  9 104   2   0]\n",
      " [  3   4  17   1]\n",
      " [  0   5   1  10]]\n",
      "\n",
      "Accuracy: 0.936416184971\n",
      "SVC(C=1.0, cache_size=200, class_weight=None, coef0=0.0,\n",
      "  decision_function_shape=None, degree=3, gamma='auto', kernel='rbf',\n",
      "  max_iter=-1, probability=False, random_state=None, shrinking=True,\n",
      "  tol=0.001, verbose=False)\n",
      "             precision    recall  f1-score   support\n",
      "\n",
      "          1       0.99      0.98      0.98       363\n",
      "          2       0.88      0.93      0.90       115\n",
      "          3       0.86      0.76      0.81        25\n",
      "          4       0.88      0.88      0.88        16\n",
      "\n",
      "avg / total       0.95      0.95      0.95       519\n",
      "\n",
      "Confusion Matrix:\n",
      "[[354   9   0   0]\n",
      " [  5 107   3   0]\n",
      " [  0   4  19   2]\n",
      " [  0   2   0  14]]\n",
      "\n",
      "Accuracy: 0.95183044316\n",
      "GaussianNB(priors=None)\n",
      "             precision    recall  f1-score   support\n",
      "\n",
      "          1       0.91      0.93      0.92       599\n",
      "          2       0.63      0.32      0.43       193\n",
      "          3       0.42      0.25      0.31        32\n",
      "          4       0.30      1.00      0.46        40\n",
      "\n",
      "avg / total       0.80      0.77      0.77       864\n",
      "\n",
      "Confusion Matrix:\n",
      "[[559  27   1  12]\n",
      " [ 53  62  10  68]\n",
      " [  1   9   8  14]\n",
      " [  0   0   0  40]]\n",
      "\n",
      "Accuracy: 0.757225433526\n",
      "KNeighborsClassifier(algorithm='auto', leaf_size=30, metric='minkowski',\n",
      "           metric_params=None, n_jobs=1, n_neighbors=5, p=2,\n",
      "           weights='uniform')\n",
      "             precision    recall  f1-score   support\n",
      "\n",
      "          1       0.97      0.97      0.97       599\n",
      "          2       0.80      0.88      0.84       193\n",
      "          3       0.59      0.62      0.61        32\n",
      "          4       1.00      0.42      0.60        40\n",
      "\n",
      "avg / total       0.92      0.91      0.91       864\n",
      "\n",
      "Confusion Matrix:\n",
      "[[582  17   0   0]\n",
      " [ 20 169   4   0]\n",
      " [  1  11  20   0]\n",
      " [  0  13  10  17]]\n",
      "\n",
      "Accuracy: 0.915221579961\n",
      "SVC(C=1.0, cache_size=200, class_weight=None, coef0=0.0,\n",
      "  decision_function_shape=None, degree=3, gamma='auto', kernel='rbf',\n",
      "  max_iter=-1, probability=False, random_state=None, shrinking=True,\n",
      "  tol=0.001, verbose=False)\n",
      "             precision    recall  f1-score   support\n",
      "\n",
      "          1       0.97      0.97      0.97       599\n",
      "          2       0.82      0.88      0.84       193\n",
      "          3       0.68      0.81      0.74        32\n",
      "          4       1.00      0.53      0.69        40\n",
      "\n",
      "avg / total       0.93      0.92      0.92       864\n",
      "\n",
      "Confusion Matrix:\n",
      "[[579  19   1   0]\n",
      " [ 19 169   5   0]\n",
      " [  0   6  26   0]\n",
      " [  0  13   6  21]]\n",
      "\n",
      "Accuracy: 0.934489402697\n"
     ]
    }
   ],
   "source": [
    "for p in percent:\n",
    "    split(p)\n",
    "    "
   ]
  },
  {
   "cell_type": "code",
   "execution_count": null,
   "metadata": {
    "collapsed": true
   },
   "outputs": [],
   "source": [
    "colors = list(\"rgbcmyk\")\n",
    "\n",
    "for data_dict in models.values():\n",
    "   x = data_dict.keys()\n",
    "   y = data_dict.values()\n",
    "   plt.scatter(x,y,color=colors.pop())\n",
    "\n",
    "plt.legend(d.keys())\n",
    "plt.show()"
   ]
  },
  {
   "cell_type": "code",
   "execution_count": 218,
   "metadata": {},
   "outputs": [
    {
     "data": {
      "text/plain": [
       "{'GaussianNB': [0.75144508670520227, 0.75915221579961467, 0.75722543352601157],\n",
       " 'SVM': [0.96146435452793833, 0.95183044315992293, 0.93448940269749514],\n",
       " 'kNN': [0.96339113680154143, 0.93641618497109824, 0.91522157996146436]}"
      ]
     },
     "execution_count": 218,
     "metadata": {},
     "output_type": "execute_result"
    }
   ],
   "source": [
    "models"
   ]
  },
  {
   "cell_type": "code",
   "execution_count": 230,
   "metadata": {},
   "outputs": [
    {
     "data": {
      "text/plain": [
       "<matplotlib.legend.Legend at 0x10fe6ec18>"
      ]
     },
     "execution_count": 230,
     "metadata": {},
     "output_type": "execute_result"
    },
    {
     "data": {
      "image/png": "[encoded data removed]",
      "text/plain": [
       "<matplotlib.figure.Figure at 0x10fcabe10>"
      ]
     },
     "metadata": {},
     "output_type": "display_data"
    }
   ],
   "source": [
    "for key, data in models.items():\n",
    "    plt.plot(percent, data, label = key)\n",
    "\n",
    "plt.xlabel(\"Percent of test set\")\n",
    "plt.ylabel('Accuracy')\n",
    "plt.title('Accuracy of 3 Different Classifiers')\n",
    "plt.xticks(percent)\n",
    "plt.legend()\n"
   ]
  },
  {
   "cell_type": "code",
   "execution_count": null,
   "metadata": {
    "collapsed": true
   },
   "outputs": [],
   "source": []
  },
  {
   "cell_type": "code",
   "execution_count": null,
   "metadata": {
    "collapsed": true
   },
   "outputs": [],
   "source": [
    "# The following part is just to visualize the result of WEKA "
   ]
  },
  {
   "cell_type": "code",
   "execution_count": 232,
   "metadata": {},
   "outputs": [],
   "source": [
    "test = {'GaussianNB': [0.836656, 0.833884, 0.857639],\n",
    " 'SVM': [0.861093, 0.87686, 0.894676],\n",
    " 'kNN': [0.788424, 0.858678, 0.9858796]}"
   ]
  },
  {
   "cell_type": "code",
   "execution_count": 233,
   "metadata": {},
   "outputs": [
    {
     "data": {
      "text/plain": [
       "<matplotlib.legend.Legend at 0x11117b908>"
      ]
     },
     "execution_count": 233,
     "metadata": {},
     "output_type": "execute_result"
    },
    {
     "data": {
      "image/png": "[encoded data removed]",
      "text/plain": [
       "<matplotlib.figure.Figure at 0x1101fe9b0>"
      ]
     },
     "metadata": {},
     "output_type": "display_data"
    }
   ],
   "source": [
    "for key, data in test.items():\n",
    "    plt.plot(percent, data, label = key)\n",
    "\n",
    "plt.xlabel(\"Percent of test set\")\n",
    "plt.ylabel('Accuracy')\n",
    "plt.title('Accuracy of 3 Different Classifiers')\n",
    "plt.xticks(percent)\n",
    "plt.legend()"
   ]
  }
 ],
 "metadata": {
  "kernelspec": {
   "display_name": "Python 3",
   "language": "python",
   "name": "python3"
  },
  "language_info": {
   "codemirror_mode": {
    "name": "ipython",
    "version": 3
   },
   "file_extension": ".py",
   "mimetype": "text/x-python",
   "name": "python",
   "nbconvert_exporter": "python",
   "pygments_lexer": "ipython3",
   "version": "3.6.1"
  }
 },
 "nbformat": 4,
 "nbformat_minor": 2
}
